{
  "nbformat": 4,
  "nbformat_minor": 0,
  "metadata": {
    "colab": {
      "name": "Transfusion.ipynb",
      "provenance": [],
      "collapsed_sections": [],
      "include_colab_link": true
    },
    "kernelspec": {
      "name": "python3",
      "display_name": "Python 3"
    }
  },
  "cells": [
    {
      "cell_type": "markdown",
      "metadata": {
        "id": "view-in-github",
        "colab_type": "text"
      },
      "source": [
        "<a href=\"https://colab.research.google.com/github/Tarcioc2/MultiLayerPerceptronAct/blob/master/Transfusion.ipynb\" target=\"_parent\"><img src=\"https://colab.research.google.com/assets/colab-badge.svg\" alt=\"Open In Colab\"/></a>"
      ]
    },
    {
      "cell_type": "code",
      "metadata": {
        "id": "Sjq43W1XhdyH",
        "colab_type": "code",
        "outputId": "5062c9c2-3b6f-44fb-e5a5-29c73c034869",
        "colab": {
          "base_uri": "https://localhost:8080/",
          "height": 706
        }
      },
      "source": [
        "#Desinstalando a versão do tensorflow 2.0(padrão do collabs), para utilizar a versão anterior.\n",
        "!pip uninstall tensorflow==2.0\n",
        "!pip install tensorflow==1.14"
      ],
      "execution_count": 0,
      "outputs": [
        {
          "output_type": "stream",
          "text": [
            "Uninstalling tensorflow-1.14.0:\n",
            "  Would remove:\n",
            "    /usr/local/bin/freeze_graph\n",
            "    /usr/local/bin/saved_model_cli\n",
            "    /usr/local/bin/tensorboard\n",
            "    /usr/local/bin/tf_upgrade_v2\n",
            "    /usr/local/bin/tflite_convert\n",
            "    /usr/local/bin/toco\n",
            "    /usr/local/bin/toco_from_protos\n",
            "    /usr/local/lib/python3.6/dist-packages/tensorflow-1.14.0.dist-info/*\n",
            "    /usr/local/lib/python3.6/dist-packages/tensorflow/*\n",
            "Proceed (y/n)? y\n",
            "  Successfully uninstalled tensorflow-1.14.0\n",
            "Collecting tensorflow==1.14\n",
            "  Using cached https://files.pythonhosted.org/packages/de/f0/96fb2e0412ae9692dbf400e5b04432885f677ad6241c088ccc5fe7724d69/tensorflow-1.14.0-cp36-cp36m-manylinux1_x86_64.whl\n",
            "Requirement already satisfied: tensorflow-estimator<1.15.0rc0,>=1.14.0rc0 in /usr/local/lib/python3.6/dist-packages (from tensorflow==1.14) (1.14.0)\n",
            "Requirement already satisfied: tensorboard<1.15.0,>=1.14.0 in /usr/local/lib/python3.6/dist-packages (from tensorflow==1.14) (1.14.0)\n",
            "Requirement already satisfied: absl-py>=0.7.0 in /usr/local/lib/python3.6/dist-packages (from tensorflow==1.14) (0.9.0)\n",
            "Requirement already satisfied: grpcio>=1.8.6 in /usr/local/lib/python3.6/dist-packages (from tensorflow==1.14) (1.27.2)\n",
            "Requirement already satisfied: numpy<2.0,>=1.14.5 in /usr/local/lib/python3.6/dist-packages (from tensorflow==1.14) (1.18.2)\n",
            "Requirement already satisfied: termcolor>=1.1.0 in /usr/local/lib/python3.6/dist-packages (from tensorflow==1.14) (1.1.0)\n",
            "Requirement already satisfied: wrapt>=1.11.1 in /usr/local/lib/python3.6/dist-packages (from tensorflow==1.14) (1.12.1)\n",
            "Requirement already satisfied: wheel>=0.26 in /usr/local/lib/python3.6/dist-packages (from tensorflow==1.14) (0.34.2)\n",
            "Requirement already satisfied: astor>=0.6.0 in /usr/local/lib/python3.6/dist-packages (from tensorflow==1.14) (0.8.1)\n",
            "Requirement already satisfied: gast>=0.2.0 in /usr/local/lib/python3.6/dist-packages (from tensorflow==1.14) (0.3.3)\n",
            "Requirement already satisfied: keras-applications>=1.0.6 in /usr/local/lib/python3.6/dist-packages (from tensorflow==1.14) (1.0.8)\n",
            "Requirement already satisfied: six>=1.10.0 in /usr/local/lib/python3.6/dist-packages (from tensorflow==1.14) (1.12.0)\n",
            "Requirement already satisfied: protobuf>=3.6.1 in /usr/local/lib/python3.6/dist-packages (from tensorflow==1.14) (3.10.0)\n",
            "Requirement already satisfied: keras-preprocessing>=1.0.5 in /usr/local/lib/python3.6/dist-packages (from tensorflow==1.14) (1.1.0)\n",
            "Requirement already satisfied: google-pasta>=0.1.6 in /usr/local/lib/python3.6/dist-packages (from tensorflow==1.14) (0.2.0)\n",
            "Requirement already satisfied: markdown>=2.6.8 in /usr/local/lib/python3.6/dist-packages (from tensorboard<1.15.0,>=1.14.0->tensorflow==1.14) (3.2.1)\n",
            "Requirement already satisfied: setuptools>=41.0.0 in /usr/local/lib/python3.6/dist-packages (from tensorboard<1.15.0,>=1.14.0->tensorflow==1.14) (46.0.0)\n",
            "Requirement already satisfied: werkzeug>=0.11.15 in /usr/local/lib/python3.6/dist-packages (from tensorboard<1.15.0,>=1.14.0->tensorflow==1.14) (1.0.0)\n",
            "Requirement already satisfied: h5py in /usr/local/lib/python3.6/dist-packages (from keras-applications>=1.0.6->tensorflow==1.14) (2.10.0)\n",
            "Installing collected packages: tensorflow\n",
            "Successfully installed tensorflow-1.14.0\n"
          ],
          "name": "stdout"
        },
        {
          "output_type": "display_data",
          "data": {
            "application/vnd.colab-display-data+json": {
              "pip_warning": {
                "packages": [
                  "tensorflow"
                ]
              }
            }
          },
          "metadata": {
            "tags": []
          }
        }
      ]
    },
    {
      "cell_type": "code",
      "metadata": {
        "id": "JDhKeUKchhFF",
        "colab_type": "code",
        "outputId": "b5eeb612-3e26-4bd2-caea-08f9aaf57ef6",
        "colab": {
          "base_uri": "https://localhost:8080/",
          "height": 437
        }
      },
      "source": [
        "#Importando as bibliotecas utilizadas.\n",
        "from numpy import loadtxt\n",
        "from keras.models import Sequential\n",
        "from keras.layers import Dense\n",
        "\n",
        "# Utilizando a função loadtxt da biblioteca numpy para ler o arquivo de dados encontrado no site disponibilizado, separando pelo delimitador \",\" e pulando a primeira linha\n",
        "#que é o cabeçalho dos dados.\n",
        "dataset = loadtxt(\"https://archive.ics.uci.edu/ml/machine-learning-databases/blood-transfusion/transfusion.data\", delimiter=',', skiprows=1)\n",
        "\n",
        "#separa os dados (X) dos resultados esperados(y)\n",
        "X = dataset[:,0:4]\n",
        "y = dataset[:,4]\n",
        "# Através da classe sequencial podemos instanciar uma rede neural multicamada sequecial. Utilizando o construtor vazio, apenas instanciamos a rede, alocando espaço para a mesma e posteriormente\n",
        "#adicionaremos as camadas pelo método \".add()\".\n",
        "model = Sequential()\n",
        "# O Dense é um tipo de camada da biblioteca Keras, responsável por cálcular a função de ativação em conjunto com os dados de entradas e pesos.\n",
        "# Os parâmetros utilizados:\n",
        "# Primeiro parâmetro (12) é o número de neurônios.\n",
        "# O parâmetro \"input_dim\" define a dimensão da camada de entrada.\n",
        "# O parâmetro \"activation\" seleciona o tipo de função de ativação utilizada, disponiveis na documentação do Keras.\n",
        "model.add(Dense(12, input_dim=4, activation='relu'))\n",
        "# Adicionando a camada que receberá o resultado da inicial.\n",
        "model.add(Dense(4, activation='relu'))\n",
        "# Adicionando a camada de saída, como nossa saída é binaria, adicionamos apenas uma única dimensão de saída. \n",
        "model.add(Dense(1, activation='sigmoid'))\n",
        "# Utilizamos o método compile para configurar o processo de aprendizagem.\n",
        "# Os parâmetros utilizados:\n",
        "# O primeiro parâmetro \"loss\", define a função que calculará a diferença entre os dados de teste e os dados de validação (utilizamos a binary_crossentropy).\n",
        "# O segundo parâmetro \"optimizer\" define a função responsável por dizer como os pesos da rede neural são atualizados.\n",
        "# O terceiro parâmetro \"metrics\" define uma lista de métricas a serem utilizadas para avaliação. (utilizamos a accuracy).\n",
        "# Todos os parâmetros estão listados na documentação do Keras, selecionamos alguns dos mais comumente utilizados.\n",
        "model.compile(loss='binary_crossentropy', optimizer='adam', metrics=['accuracy'])\n",
        "# Metodo Fit é utilizado para treinar o modelo para um determinado número de iterações (epochs), definindo o tamanho do lote de amostras que será propagado pelas camadas (batch_size).\n",
        "# Nesse caso, utilizamos toda a base para o treinamento, passando os dados (X) e os resultados esperados (y), em formato de matriz numpy.\n",
        "model.fit(X, y, epochs=10, batch_size=200, verbose=1)\n",
        "\n",
        "#Função predict_classes gera classes de predição para cada conjunto de amostra(batch).\n",
        "predictions = model.predict_classes(X)\n",
        "\n",
        "for i in range(5):\n",
        "\tprint('%s => %d (expected %d)' % (X[i].tolist(), predictions[i], y[i]))"
      ],
      "execution_count": 0,
      "outputs": [
        {
          "output_type": "stream",
          "text": [
            "Epoch 1/10\n",
            "748/748 [==============================] - 0s 431us/step - loss: 12.1486 - acc: 0.2380\n",
            "Epoch 2/10\n",
            "748/748 [==============================] - 0s 12us/step - loss: 12.1486 - acc: 0.2380\n",
            "Epoch 3/10\n",
            "748/748 [==============================] - 0s 11us/step - loss: 12.1486 - acc: 0.2380\n",
            "Epoch 4/10\n",
            "748/748 [==============================] - 0s 10us/step - loss: 12.1486 - acc: 0.2380\n",
            "Epoch 5/10\n",
            "748/748 [==============================] - 0s 11us/step - loss: 12.1486 - acc: 0.2380\n",
            "Epoch 6/10\n",
            "748/748 [==============================] - 0s 23us/step - loss: 12.1486 - acc: 0.2380\n",
            "Epoch 7/10\n",
            "748/748 [==============================] - 0s 13us/step - loss: 12.1486 - acc: 0.2380\n",
            "Epoch 8/10\n",
            "748/748 [==============================] - 0s 14us/step - loss: 12.1486 - acc: 0.2380\n",
            "Epoch 9/10\n",
            "748/748 [==============================] - 0s 13us/step - loss: 12.1486 - acc: 0.2380\n",
            "Epoch 10/10\n",
            "748/748 [==============================] - 0s 13us/step - loss: 12.1486 - acc: 0.2380\n",
            "[2.0, 50.0, 12500.0, 98.0] => 1 (expected 1)\n",
            "[0.0, 13.0, 3250.0, 28.0] => 1 (expected 1)\n",
            "[1.0, 16.0, 4000.0, 35.0] => 1 (expected 1)\n",
            "[2.0, 20.0, 5000.0, 45.0] => 1 (expected 1)\n",
            "[1.0, 24.0, 6000.0, 77.0] => 1 (expected 0)\n"
          ],
          "name": "stdout"
        }
      ]
    }
  ]
}